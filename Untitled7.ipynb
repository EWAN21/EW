{
 "cells": [
  {
   "cell_type": "code",
   "execution_count": null,
   "id": "f5f80116",
   "metadata": {},
   "outputs": [],
   "source": [
    "import math\n",
    "\n",
    "r = float(input(\"Please enter the radius of the circle（mm）：\"))\n",
    "s = round(2 * r * math.pi,2)\n",
    "a = round(math.pi * r**2,2)\n",
    "print(\"The circumference of the circle：{}mm\".format(s))\n",
    "print(\"The area of a circle{}mm^2\".format(a))"
   ]
  },
  {
   "cell_type": "code",
   "execution_count": null,
   "id": "ced2354e",
   "metadata": {},
   "outputs": [],
   "source": [
    "def uppercase_lowercase(string):\n",
    "  uppercase = 0\n",
    "  lowercase = 0\n",
    "  for char in string:\n",
    "    if char.islower():\n",
    "      lowercase += 1\n",
    "    elif char.isupper():\n",
    "      uppercase +=1\n",
    "    \n",
    "  return(uppercase, lowercase)\n",
    "\n",
    "print(uppercase_lowercase('Hello World'))"
   ]
  },
  {
   "cell_type": "code",
   "execution_count": null,
   "id": "fe13c4d8",
   "metadata": {},
   "outputs": [],
   "source": []
  }
 ],
 "metadata": {
  "kernelspec": {
   "display_name": "Python 3 (ipykernel)",
   "language": "python",
   "name": "python3"
  },
  "language_info": {
   "codemirror_mode": {
    "name": "ipython",
    "version": 3
   },
   "file_extension": ".py",
   "mimetype": "text/x-python",
   "name": "python",
   "nbconvert_exporter": "python",
   "pygments_lexer": "ipython3",
   "version": "3.9.7"
  }
 },
 "nbformat": 4,
 "nbformat_minor": 5
}
